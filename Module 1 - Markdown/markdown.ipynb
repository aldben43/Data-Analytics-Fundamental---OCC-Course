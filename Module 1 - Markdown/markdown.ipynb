{
 "cells": [
  {
   "cell_type": "markdown",
   "metadata": {},
   "source": [
    "# Jupyter Notebook\n",
    "\n",
    "Jupyter Notebook is an open-source web application that allows you to create and share documents that contain live code, equations, visualizations, and narrative text. Notebook & Markdown is widely used for creating documentation and reports."
   ]
  },
  {
   "cell_type": "markdown",
   "metadata": {},
   "source": [
    "## Keyboard Shortcuts\n",
    "\n",
    "- **Shift + Enter**: Execute the current cell and move to the next one.\n",
    "- **Ctrl + Enter**: Execute the current cell and remain in the same cell.\n",
    "- **Esc**: Enter command mode, allowing for navigation and execution commands.\n",
    "- **Enter**: Enter edit mode for the currently selected cell.\n",
    "- **A (in command mode)**: Insert a new cell above the current cell.\n",
    "- **B (in command mode)**: Insert a new cell below the current cell.\n",
    "- **M (in command mode)**: Change the current cell to a Markdown cell.\n",
    "- **Y (in command mode)**: Change the current cell to a Code cell."
   ]
  },
  {
   "cell_type": "markdown",
   "metadata": {},
   "source": [
    "## What is Markdown\n",
    "\n",
    "Markdown is a lightweight markup language with plain-text formatting syntax, designed to be easy to read and write. It was created by John Gruber in 2004 with the goal of allowing people to write using an easy-to-read and easy-to-write plain text format, which could then be converted into structurally valid XHTML (or HTML). Markdown is widely used for creating documentation, writing README files for projects, and even writing emails."
   ]
  },
  {
   "cell_type": "markdown",
   "metadata": {
    "vscode": {
     "languageId": "plaintext"
    }
   },
   "source": [
    "# Heading 1, Title\n",
    "## Heading 2, Major Headings\n",
    "### Heading 3, Subheadings\n",
    "#### Heading 4, 4th Level Subheadings\n",
    "##### Heading 5, 5th Level Subheadings\n",
    "###### Heading 6, 6th Level Subheadings"
   ]
  },
  {
   "cell_type": "markdown",
   "metadata": {},
   "source": [
    "### Plain Text\n",
    "\n",
    "This is a sample of a plain text. You use plain text combined with simple symbols to add formatting, which makes the text both readable in its raw form and easily convertible to other formats."
   ]
  },
  {
   "cell_type": "markdown",
   "metadata": {},
   "source": [
    "### Text Formatting\n",
    "\n",
    "<!--Control + /: Create a command in VS Code-->\n",
    "<!--Bold-->\n",
    "This is some **bold text**.\n",
    "This is some __bold text__\n",
    "\n",
    "<!--Italic-->\n",
    "This is some _italicized text_\n",
    "This is some *italicized text*\n",
    "\n",
    "<!--Strikethrough-->\n",
    "This is some ~~strikethrough text~~\n",
    "\n",
    "<!--Subscript-->\n",
    "The chemical for water is H<sub>2</sub>O. \n",
    "\n",
    "<!--Superscript-->\n",
    "The expression is x<sup>2</sup>.\n",
    "\n",
    "<!--Underline-->\n",
    "This is some <u>underline text</u>\n"
   ]
  },
  {
   "cell_type": "markdown",
   "metadata": {},
   "source": [
    "<!-- Horizontal Rules -->\n",
    "<!-- Hyphen -->\n",
    "---\n",
    "<!-- Asterisk -->\n",
    "***\n",
    "<!-- Underscore -->\n",
    "___"
   ]
  },
  {
   "cell_type": "markdown",
   "metadata": {},
   "source": [
    "### Links\n",
    "<!-- Link -->\n",
    "<!-- [] - Link Text, () - Link -->\n",
    "[Google](https://www.google.com/)"
   ]
  },
  {
   "cell_type": "markdown",
   "metadata": {},
   "source": [
    "### Images\n",
    "\n",
    "<!-- []- Alternative Text if image can't be displayed, () link (copy image address)/path of the image -->\n",
    "![Chelsea Logo](https://upload.wikimedia.org/wikipedia/en/thumb/c/cc/Chelsea_FC.svg/640px-Chelsea_FC.svg.png)"
   ]
  },
  {
   "cell_type": "markdown",
   "metadata": {},
   "source": [
    "### Downloaded Image\n",
    "<!-- [] - Alternative Text,  () - Path -->\n",
    "![CHOYS](CHOYS.png)"
   ]
  },
  {
   "cell_type": "markdown",
   "metadata": {},
   "source": [
    "### Adjust Height and Width\n",
    "\n",
    "<img src =\"CHOYS.png\" alt=\"CHOYS Logo\" width=\"400\" height=\"200\">"
   ]
  },
  {
   "cell_type": "markdown",
   "metadata": {},
   "source": [
    "<!-- Create a button -->\n",
    "<button>Press</button>"
   ]
  },
  {
   "cell_type": "markdown",
   "metadata": {},
   "source": [
    "### Markdown Lists\n",
    "\n",
    "#### Unordered List\n",
    "\n",
    "- Apple\n",
    "- Cherry\n",
    "- Banana\n",
    "- Mango"
   ]
  },
  {
   "cell_type": "markdown",
   "metadata": {},
   "source": [
    "### Ordered List\n",
    "\n",
    "1. Red\n",
    "2. Orange\n",
    "3. Yellow\n",
    "4. Green\n",
    "5. Blue\n",
    "6. Indigo\n",
    "7. Violet"
   ]
  },
  {
   "cell_type": "markdown",
   "metadata": {},
   "source": [
    "### Nested Lists\n",
    "\n",
    "- Boiled Egg in 3 Steps\n",
    "    1. Boil water.\n",
    "    2. Add egg and Cook for desired time.\n",
    "    3. Immediately shock in cold water.\n",
    "- Fried Egg in 3 Steps\n",
    "    1. Heat the oil in the pan.\n",
    "    2. Crack the egg into the pan.\n",
    "    3. Cook until desired doneness."
   ]
  },
  {
   "cell_type": "markdown",
   "metadata": {},
   "source": [
    "### Tables\n",
    "\n",
    "1. Headers: Headers are defined by using a pipe symbol (|) to separate columns and hyphens (-) to separate the header row from the content rows. Each column's width is determined by the width of the content within it.\n",
    "2. Content Rows: Content rows follow the same format as the header row. Each cell's content is separated by pipe symbols (|).\n",
    "3. Formatting: You can include basic formatting within cells, such as italics, bold, or links, just like in regular Markdown text."
   ]
  },
  {
   "cell_type": "markdown",
   "metadata": {},
   "source": [
    "| Product Name | Quantity | Unit Price |\n",
    "| :------------: | :-------- | ----------: |\n",
    "| Product *A*    | 100      | 20         |\n",
    "| Product _B_    | 120      | 40         |\n",
    "| Product __C__    | 300      | 60         |\n",
    "\n",
    "<!-- No need to in line everything -->"
   ]
  }
 ],
 "metadata": {
  "language_info": {
   "name": "python"
  }
 },
 "nbformat": 4,
 "nbformat_minor": 2
}
