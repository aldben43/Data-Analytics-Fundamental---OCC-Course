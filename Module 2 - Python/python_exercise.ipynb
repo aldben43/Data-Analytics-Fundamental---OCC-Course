{
 "cells": [
  {
   "cell_type": "markdown",
   "metadata": {},
   "source": [
    "# **Python Exercise**"
   ]
  },
  {
   "cell_type": "markdown",
   "metadata": {},
   "source": [
    "## Exercise 1: Conditional Problem\n",
    "\n",
    "**Problem:** Create a dictionary to store information about a student: name, age, grade level, and average grade.\n",
    "\n",
    "1. If the average grade is 90 or above, print `\"Excellent!\"`.\n",
    "2. If the average grade is between 80 and 89, print `\"Very Good\"`.\n",
    "3. If the average grade is between 70 and 79, print `\"Good\"`.\n",
    "4. If the average grade is below 70, print `\"Needs Improvement\"`."
   ]
  },
  {
   "cell_type": "code",
   "execution_count": 1,
   "metadata": {},
   "outputs": [
    {
     "name": "stdout",
     "output_type": "stream",
     "text": [
      "Very Good\n"
     ]
    }
   ],
   "source": [
    "student = {\n",
    "    \"Name\" : \"Jack D\",\n",
    "    \"Age\": 10,\n",
    "    \"Grade Level\" : 6,\n",
    "    \"Average Grade\" : 85}\n",
    "\n",
    "if student [\"Average Grade\"] >= 90:\n",
    " print (\"Excellent!\")\n",
    "\n",
    "elif student [\"Average Grade\"] >=80: \n",
    " print (\"Very Good\")\n",
    "\n",
    "elif student [\"Average Grade\"] >=70: \n",
    " print (\"Good\")\n",
    "\n",
    "elif student [\"Average Grade\"] <70:\n",
    " print (\"Needs Improvement\")\n"
   ]
  },
  {
   "cell_type": "markdown",
   "metadata": {},
   "source": [
    "## Exercise 2: Looping Problem\n",
    "\n",
    "Problem: Create a list of 5 numbers.\n",
    "\n",
    "1. Iterate through the list and print each number.\n",
    "2. Calculate the sum of all numbers in the list."
   ]
  },
  {
   "cell_type": "code",
   "execution_count": 2,
   "metadata": {},
   "outputs": [
    {
     "name": "stdout",
     "output_type": "stream",
     "text": [
      "1\n",
      "2\n",
      "3\n",
      "4\n",
      "5\n"
     ]
    }
   ],
   "source": [
    "# 1. Print each number\n",
    "\n",
    "numbers = [1,2,3,4,5]\n",
    "for number in numbers:\n",
    "    print(number)\n",
    "\n"
   ]
  },
  {
   "cell_type": "code",
   "execution_count": 6,
   "metadata": {},
   "outputs": [
    {
     "name": "stdout",
     "output_type": "stream",
     "text": [
      "15\n"
     ]
    }
   ],
   "source": [
    "# 2. Calculate the sum\n",
    "\"\"\"total_sum = 0\n",
    "\n",
    "for number in numbers:\n",
    "    total_sum += number\n",
    "print (total_sum)\"\"\"\n",
    "\n",
    "total_sum = sum(numbers)\n",
    "print (total_sum)"
   ]
  }
 ],
 "metadata": {
  "kernelspec": {
   "display_name": "Python 3",
   "language": "python",
   "name": "python3"
  },
  "language_info": {
   "codemirror_mode": {
    "name": "ipython",
    "version": 3
   },
   "file_extension": ".py",
   "mimetype": "text/x-python",
   "name": "python",
   "nbconvert_exporter": "python",
   "pygments_lexer": "ipython3",
   "version": "3.13.0"
  }
 },
 "nbformat": 4,
 "nbformat_minor": 2
}
