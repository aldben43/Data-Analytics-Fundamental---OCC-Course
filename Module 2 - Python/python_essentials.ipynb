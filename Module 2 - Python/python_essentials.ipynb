{
 "cells": [
  {
   "cell_type": "markdown",
   "metadata": {},
   "source": [
    "# **Python Key Points**\n",
    "1. **Interpreted Language**: Python is an interpreted language, which means that code is executed line by line by the Python interpreter. This allows for easier debugging and faster development cycles.\n",
    "2. **High-Level Language**: Python is designed to be human-readable and has a simple and easy-to-learn syntax. This makes it suitable for beginners and experienced programmers alike.\n",
    "3. **Dynamically Typed**: Python is dynamically typed, meaning that you don't need to declare variable types explicitly. The type of a variable is inferred at runtime based on the value assigned to it.\n",
    "4. **Indentation**: Python uses indentation to define code blocks instead of curly braces or keywords like begin and end. This enforces clean and readable code but can also lead to syntax errors if not used correctly.\n",
    "5. **Versatile Usage**: Python is used for a wide range of applications, including web development, data science, machine learning, artificial intelligence, scientific computing, automation, scripting, and more. Its versatility and ease of use make it a popular choice across industries."
   ]
  },
  {
   "cell_type": "markdown",
   "metadata": {},
   "source": [
    "### Install `ipykernel`\n",
    "1. Run the cell then it will pop up a message saying.\n",
    "2. Running cells with `Python Version` requires ipykernel. \n",
    "3. Click install"
   ]
  },
  {
   "cell_type": "code",
   "execution_count": 267,
   "metadata": {},
   "outputs": [
    {
     "name": "stdout",
     "output_type": "stream",
     "text": [
      "Hello world!\n"
     ]
    }
   ],
   "source": [
    "print(\"Hello world!\")"
   ]
  },
  {
   "cell_type": "markdown",
   "metadata": {},
   "source": [
    "## **Commenting**\n",
    "Commenting is the process of adding annotations or remarks within your code to provide explanations, context, or documentation. Comments are not executed by the interpreter/compiler and are purely for the benefit of developers reading the code.\n",
    "\n",
    "#### **Types of Comments:**"
   ]
  },
  {
   "cell_type": "markdown",
   "metadata": {},
   "source": [
    "- **Single-Line Comments:** These comments start with a specific character (e.g., # in Python) and continue until the end of the line. They are suitable for brief annotations or remarks on individual lines of code."
   ]
  },
  {
   "cell_type": "code",
   "execution_count": 268,
   "metadata": {},
   "outputs": [
    {
     "name": "stdout",
     "output_type": "stream",
     "text": [
      "Hello World\n"
     ]
    }
   ],
   "source": [
    "# This is a single line comment.\n",
    "print (\"Hello World\")"
   ]
  },
  {
   "cell_type": "markdown",
   "metadata": {},
   "source": [
    "- **Multi-Line Comments:** While many programming languages support multi-line comments, Python does not have an explicit syntax for them. However, multi-line strings (docstrings) enclosed in triple quotes (\"\"\") are often used for this purpose. They are primarily intended for documenting modules, classes, functions, and methods."
   ]
  },
  {
   "cell_type": "code",
   "execution_count": 269,
   "metadata": {},
   "outputs": [
    {
     "name": "stdout",
     "output_type": "stream",
     "text": [
      "Hello World\n"
     ]
    }
   ],
   "source": [
    "\"\"\" This is a\n",
    "Multi Line Comment \"\"\"\n",
    "\n",
    "print (\"Hello World\")"
   ]
  },
  {
   "cell_type": "markdown",
   "metadata": {},
   "source": [
    "- **Inline Comments:** Inline comments appear on the same line as code and provide additional context or explanation for that specific line of code. However, excessive use of inline comments can clutter the code and reduce readability, so they should be used sparingly and only when necessary."
   ]
  },
  {
   "cell_type": "code",
   "execution_count": 270,
   "metadata": {},
   "outputs": [
    {
     "name": "stdout",
     "output_type": "stream",
     "text": [
      "Hello World\n"
     ]
    }
   ],
   "source": [
    "print(\"Hello World\") # This is an inline comment"
   ]
  },
  {
   "cell_type": "markdown",
   "metadata": {},
   "source": [
    "## **Variables**\n",
    "\n",
    "#### **Creating Variables**\n",
    "\n",
    "Creating a variable in Python is simple. You assign a value to a variable name and start using it. Python figures out the variable type automatically.\n",
    "\n",
    "#### **Variable Naming Rules**\n",
    "- Variable names can contain letters (both uppercase and lowercase), digits, and underscores.\n",
    "- They must begin with a letter or an underscore (_), but not with a digit.\n",
    "- Case sensitive (myVar and myvar are different variables)\n",
    "- Python keywords cannot be used as variable names."
   ]
  },
  {
   "cell_type": "code",
   "execution_count": 271,
   "metadata": {},
   "outputs": [
    {
     "name": "stdout",
     "output_type": "stream",
     "text": [
      "10 5\n"
     ]
    }
   ],
   "source": [
    "number_id = 10 #snake case naming convention\n",
    "Number = 5\n",
    "print (number_id, Number)"
   ]
  },
  {
   "cell_type": "markdown",
   "metadata": {},
   "source": [
    "## **Numeric Data Types**\n",
    "\n",
    "- **int** - Integer values, such as `5`, `-3`, `1000`, etc."
   ]
  },
  {
   "cell_type": "code",
   "execution_count": 272,
   "metadata": {},
   "outputs": [
    {
     "name": "stdout",
     "output_type": "stream",
     "text": [
      "30 -30 0\n",
      "<class 'int'>\n",
      "<class 'int'>\n",
      "<class 'int'>\n"
     ]
    }
   ],
   "source": [
    "positive_integer = 30\n",
    "negative_integer = -30\n",
    "zero = 0\n",
    "print(positive_integer , negative_integer, zero)\n",
    "\n",
    "#Check Data Type\n",
    "print (type(positive_integer))\n",
    "print (type(negative_integer))\n",
    "print (type(zero))"
   ]
  },
  {
   "cell_type": "markdown",
   "metadata": {},
   "source": [
    "- **float**: Floating-point values, representing decimal numbers, such as `3.14`, `-0.001`, `2.0`, etc."
   ]
  },
  {
   "cell_type": "code",
   "execution_count": 273,
   "metadata": {},
   "outputs": [
    {
     "name": "stdout",
     "output_type": "stream",
     "text": [
      "3.14 -3.14\n",
      "<class 'float'>\n",
      "<class 'float'>\n"
     ]
    }
   ],
   "source": [
    "positive_float = 3.14\n",
    "negative_float = -3.14\n",
    "print(positive_float, negative_float)\n",
    "\n",
    "print(type(positive_float))\n",
    "print(type(negative_float))"
   ]
  },
  {
   "cell_type": "markdown",
   "metadata": {},
   "source": [
    "## **Operators and Expressions**\n",
    "\n",
    "### **Arithmetic Operators**"
   ]
  },
  {
   "cell_type": "code",
   "execution_count": 274,
   "metadata": {},
   "outputs": [
    {
     "name": "stdout",
     "output_type": "stream",
     "text": [
      "Type of num1: <class 'int'> Type of num2: <class 'int'>\n",
      "Addition (+) 15\n",
      "Subtraction (-) 5\n",
      "Multiplication (*) 50\n",
      "Division (/) 2.0\n",
      "Remainder (%) 1\n",
      "Remainder (%) 0\n",
      "Exponent (**) 100000\n"
     ]
    }
   ],
   "source": [
    "num1 = 10\n",
    "num2 = 5\n",
    "\n",
    "print (\"Type of num1:\" , type(num1), \"Type of num2:\", type(num2))\n",
    "\n",
    "print (\"Addition (+)\", num1+num2)\n",
    "print (\"Subtraction (-)\", num1-num2)\n",
    "print (\"Multiplication (*)\", num1*num2)\n",
    "print (\"Division (/)\", num1/num2)\n",
    "\n",
    "print (\"Remainder (%)\", 13%2) #odd: 1\n",
    "print (\"Remainder (%)\", 10%2) #odd: 0\n",
    "\n",
    "print (\"Exponent (**)\", num1**num2)"
   ]
  },
  {
   "cell_type": "code",
   "execution_count": 275,
   "metadata": {},
   "outputs": [
    {
     "name": "stdout",
     "output_type": "stream",
     "text": [
      "28.0\n"
     ]
    }
   ],
   "source": [
    "#Order of Operations\n",
    "#PEMDAS (Parentheses, Exponent, Multiplication, Division, Addition, Substraction)\n",
    "\"\"\" if multiplication and division on the same line, do from the left, \n",
    "same goes with addtion and substraction\"\"\"\n",
    "\n",
    "print (10 + 8 / 4 * (5-2) ** 2)"
   ]
  },
  {
   "cell_type": "markdown",
   "metadata": {},
   "source": [
    "### **Assignment Operators**"
   ]
  },
  {
   "cell_type": "code",
   "execution_count": 276,
   "metadata": {},
   "outputs": [
    {
     "name": "stdout",
     "output_type": "stream",
     "text": [
      "10\n",
      "the new value of num 3: 15\n",
      "the new value of num 3: 10\n",
      "the new value of num 3: 50\n",
      "the new value of num 3: 10.0\n"
     ]
    }
   ],
   "source": [
    "#1. Single Equal Sign\n",
    "num3 = 10\n",
    "num4 = 5\n",
    "\n",
    "print (num3)\n",
    "\n",
    "#2. Addition Assignment (+=)\n",
    "#num3 = num3 + num4 \n",
    "num3 += num4\n",
    "print (\"the new value of num 3:\", num3)\n",
    "# Computation: 10 + 5 = 15\n",
    "\n",
    "#3. Subtraction Assignment (-=)\n",
    "num3 -= num4\n",
    "print (\"the new value of num 3:\", num3)\n",
    "# Computation: 15 - 5 = 10\n",
    "\n",
    "#4. Multiplication Assignment (*=)\n",
    "num3 *= num4\n",
    "print (\"the new value of num 3:\", num3)\n",
    "# Computation: 10 * 5 = 50\n",
    "\n",
    "#5. Division Assignment (/=)\n",
    "num3 /= num4\n",
    "print (\"the new value of num 3:\", num3)\n",
    "# Computation: 50 * 5 = 50"
   ]
  },
  {
   "cell_type": "markdown",
   "metadata": {},
   "source": [
    "## **Boolean Data Type**\n",
    "- **bool**: Boolean values representing True or False."
   ]
  },
  {
   "cell_type": "code",
   "execution_count": 277,
   "metadata": {},
   "outputs": [
    {
     "name": "stdout",
     "output_type": "stream",
     "text": [
      "Is the user a student? True\n",
      "Data Type <class 'bool'>\n"
     ]
    }
   ],
   "source": [
    "is_Student = True\n",
    "\n",
    "print (\"Is the user a student?\", is_Student)\n",
    "print (\"Data Type\", type(is_Student))"
   ]
  },
  {
   "cell_type": "markdown",
   "metadata": {},
   "source": [
    "### **Comparison Operators**"
   ]
  },
  {
   "cell_type": "code",
   "execution_count": 278,
   "metadata": {},
   "outputs": [
    {
     "name": "stdout",
     "output_type": "stream",
     "text": [
      "Equal to (==): False\n",
      "Not Equal to (!=): True\n",
      "Greater than (>): True\n",
      "Less than (<): False\n",
      "Greater than or equal to (>=): True\n",
      "Greater than or Equal to (>=): True\n",
      "Less than or equal to (<=): False\n",
      "Less than or Equal to(<=): True\n"
     ]
    }
   ],
   "source": [
    "num7 = 10\n",
    "num8 = 5\n",
    "\n",
    "print (\"Equal to (==):\", num7 == num8)\n",
    "print (\"Not Equal to (!=):\", num7 != num8)\n",
    "print (\"Greater than (>):\", num7 > num8)\n",
    "print (\"Less than (<):\", num7 < num8)\n",
    "\n",
    "print (\"Greater than or equal to (>=):\", num7 >= num8)\n",
    "print(\"Greater than or Equal to (>=):\", num7 >= 10)\n",
    "print (\"Less than or equal to (<=):\", num7 <= num8)\n",
    "print(\"Less than or Equal to(<=):\", 5 <= num8)"
   ]
  },
  {
   "cell_type": "markdown",
   "metadata": {},
   "source": [
    "### **Logical Operators**"
   ]
  },
  {
   "cell_type": "code",
   "execution_count": 279,
   "metadata": {},
   "outputs": [
    {
     "name": "stdout",
     "output_type": "stream",
     "text": [
      "Is it sunny AND warm AND windy? False\n",
      "Is is sunny OR warm True\n",
      "Not Sunny: True\n"
     ]
    }
   ],
   "source": [
    "#AND, OR, NOT\n",
    "sunny = False\n",
    "warm = True\n",
    "windy = True\n",
    "\n",
    "#and: True if all boolean variables are True, otherwise False\n",
    "print(\"Is it sunny AND warm AND windy?\", sunny and warm and windy)\n",
    "\n",
    "#or: True if atleast one is True, otherwise False\n",
    "print(\"Is is sunny OR warm\", sunny or warm)\n",
    "\n",
    "#not: Invert the value of a boolean\n",
    "print(\"Not Sunny:\", not sunny)"
   ]
  },
  {
   "cell_type": "markdown",
   "metadata": {},
   "source": [
    "## **Strings and String Methods**\n",
    "\n",
    "Strings are sequences of characters and are among the most used data types in Python, especially in data analytics for processing text data.\n",
    "\n",
    "#### **Introduction to Strings**\n",
    "\n",
    "Strings in Python are created by enclosing characters in quotes. Python treats single quotes (') and double quotes (\") as the same, allowing you to incorporate one type of quote within another including an apostrophe within a string.\n",
    "\n",
    "#### **Creating and Accessing Strings**"
   ]
  },
  {
   "cell_type": "code",
   "execution_count": 280,
   "metadata": {},
   "outputs": [
    {
     "name": "stdout",
     "output_type": "stream",
     "text": [
      "Firstname: Angelo\n",
      "Lastname: Artajo\n",
      "Data Type: <class 'str'>\n",
      "Length of Firstname: 6\n"
     ]
    }
   ],
   "source": [
    "first_name = \"Angelo\"\n",
    "last_name = 'Artajo'\n",
    "\n",
    "print(\"Firstname:\", first_name)\n",
    "print(\"Lastname:\", last_name)\n",
    "print(\"Data Type:\", type (first_name))\n",
    "print(\"Length of Firstname:\", len(first_name))\n"
   ]
  },
  {
   "cell_type": "code",
   "execution_count": 281,
   "metadata": {},
   "outputs": [
    {
     "name": "stdout",
     "output_type": "stream",
     "text": [
      "First Character: H\n",
      "Last Character: .\n",
      "Last Character: .\n"
     ]
    }
   ],
   "source": [
    "# Indexing (starts with 0, spaces will take an index)\n",
    "message = \"Hello Python! I love python.\"\n",
    "\n",
    "print(\"First Character:\", message [0])\n",
    "print(\"Last Character:\", message [-1]) # negative (-) will start from behind\n",
    "print(\"Last Character:\", message [len(message) -1])\n"
   ]
  },
  {
   "cell_type": "code",
   "execution_count": 282,
   "metadata": {},
   "outputs": [
    {
     "name": "stdout",
     "output_type": "stream",
     "text": [
      "Hello Python! I love python.\n",
      "Slice the string Hello\n",
      "Step/ Skip 2 HloPto!Ilv yhn\n",
      "Reverse Order .nohtyp evol I !nohtyP olleH\n"
     ]
    }
   ],
   "source": [
    "print(message)\n",
    "#Slicing Parameters\n",
    "# [starting index: ending_index (excluded): step]\n",
    "print(\"Slice the string\", message [0:5])\n",
    "print(\"Step/ Skip 2\", message [::2])\n",
    "print(\"Reverse Order\", message [::-1])"
   ]
  },
  {
   "cell_type": "markdown",
   "metadata": {},
   "source": [
    "### **String Methods**"
   ]
  },
  {
   "cell_type": "code",
   "execution_count": 283,
   "metadata": {},
   "outputs": [
    {
     "name": "stdout",
     "output_type": "stream",
     "text": [
      "Capitalize: Data analytics\n",
      "Title: Data Analytics\n",
      "Upper: DATA ANALYTICS\n",
      "Lower: data analytics\n"
     ]
    }
   ],
   "source": [
    "course = \"data analytics\"\n",
    "\n",
    "print(\"Capitalize:\", course.capitalize())\n",
    "print (\"Title:\",course.title())\n",
    "print (\"Upper:\",course.upper())\n",
    "print (\"Lower:\",course.lower())"
   ]
  },
  {
   "cell_type": "code",
   "execution_count": 284,
   "metadata": {},
   "outputs": [
    {
     "name": "stdout",
     "output_type": "stream",
     "text": [
      "Find analytics in course: 5\n",
      "Find science in course: -1\n",
      "Find a in course: 1\n",
      "is analytics in course: True\n",
      "is science in course: False\n"
     ]
    }
   ],
   "source": [
    "print(\"Find analytics in course:\", course.find(\"analytics\")) #returns the index, case sensitive\n",
    "print(\"Find science in course:\", course.find(\"science\")) #returns -1 if word is not in the variable\n",
    "print(\"Find a in course:\", course.find(\"a\"))\n",
    "\n",
    "print(\"is analytics in course:\", \"analytics\" in course)\n",
    "print(\"is science in course:\", \"science\" in course)"
   ]
  },
  {
   "cell_type": "markdown",
   "metadata": {},
   "source": [
    "### **Concatenation, Formatted String, and .format() Method**"
   ]
  },
  {
   "cell_type": "markdown",
   "metadata": {},
   "source": [
    "- **Concatenation**"
   ]
  },
  {
   "cell_type": "code",
   "execution_count": 285,
   "metadata": {},
   "outputs": [
    {
     "name": "stdout",
     "output_type": "stream",
     "text": [
      "Angelo Artajo\n",
      "Concatenation; Angelo Artajo\n"
     ]
    }
   ],
   "source": [
    "print(first_name, last_name)\n",
    "print (\"Concatenation;\", first_name + \" \" + last_name)"
   ]
  },
  {
   "cell_type": "markdown",
   "metadata": {},
   "source": [
    "- **Formatted Strings Literals (f-strings)** "
   ]
  },
  {
   "cell_type": "code",
   "execution_count": 286,
   "metadata": {},
   "outputs": [
    {
     "name": "stdout",
     "output_type": "stream",
     "text": [
      "Formatted Strings: Angelo Artajo\n"
     ]
    }
   ],
   "source": [
    "print(f\"Formatted Strings: {first_name} {last_name}\")"
   ]
  },
  {
   "cell_type": "markdown",
   "metadata": {},
   "source": [
    "- **.format() method**"
   ]
  },
  {
   "cell_type": "code",
   "execution_count": 287,
   "metadata": {},
   "outputs": [
    {
     "name": "stdout",
     "output_type": "stream",
     "text": [
      "\n",
      "Hello my name Therese Marie Te !\n",
      "I am 18. I want to learn data analytics\n"
     ]
    }
   ],
   "source": [
    "introduction = \"\"\"\n",
    "Hello my name {first_name} {last_name} !\n",
    "I am {age}. I want to learn {course}\"\"\"\n",
    "\n",
    "print(introduction.format(first_name = \"Therese\", last_name = \"Marie Te\", age=18, course=\"data analytics\"))"
   ]
  },
  {
   "cell_type": "markdown",
   "metadata": {},
   "source": [
    "## **Lists and List Methods**\n",
    "\n",
    "#### **Introduction to Lists**\n",
    "\n",
    "Lists are mutable sequences, meaning you can modify them after creation. They can contain items of any type, making them incredibly versatile for data collection and manipulation tasks.\n",
    "\n",
    "- Mutability: Lists are mutable, meaning their elements can be changed after creation.\n",
    "- Syntax: Lists are enclosed in square brackets ([]), and elements are separated by commas.\n",
    "- Indexing and Ordering: Lists are ordered collections, preserving the order of elements. Elements can be accessed using indices.\n",
    "- Usage: Lists are suitable for mutable sequences of items, like arrays, stacks, or queues.\n",
    "\n",
    "#### **Creating and Modifying Lists**"
   ]
  },
  {
   "cell_type": "code",
   "execution_count": 288,
   "metadata": {},
   "outputs": [
    {
     "name": "stdout",
     "output_type": "stream",
     "text": [
      "[1, 2, 3, 4, 5] ['Apple', 'Banana', 'Cherry'] [30, 3.14, True, False, 'John']\n",
      "Data Type: <class 'list'>\n",
      "Length of Mixed List: 5\n"
     ]
    }
   ],
   "source": [
    "number = [1, 2, 3, 4, 5]\n",
    "fruits = [\"Apple\", \"Banana\", \"Cherry\"]\n",
    "mixed_list = [30, 3.14, True, False, \"John\"]\n",
    "\n",
    "print(number, fruits, mixed_list)\n",
    "print(\"Data Type:\", type(mixed_list))\n",
    "print (\"Length of Mixed List:\", len(mixed_list))"
   ]
  },
  {
   "cell_type": "code",
   "execution_count": 289,
   "metadata": {},
   "outputs": [
    {
     "name": "stdout",
     "output_type": "stream",
     "text": [
      "First Element: Apple\n",
      "Last Element: Cherry\n"
     ]
    }
   ],
   "source": [
    "# List Indexing\n",
    "print(\"First Element:\", fruits[0])\n",
    "print(\"Last Element:\", fruits[-1])"
   ]
  },
  {
   "cell_type": "code",
   "execution_count": 290,
   "metadata": {},
   "outputs": [
    {
     "name": "stdout",
     "output_type": "stream",
     "text": [
      "Fruits ['Banana', 'Cherry']\n",
      "Step 2: [1, 3, 5]\n",
      "Reverse Order: [5, 4, 3, 2, 1]\n"
     ]
    }
   ],
   "source": [
    "# List Slicing\n",
    "#[starting_index:ending_index(excluded):step]\n",
    "\n",
    "print(\"Fruits\", fruits[1:])\n",
    "print(\"Step 2:\", number[::2])\n",
    "print(\"Reverse Order:\", number[::-1])"
   ]
  },
  {
   "cell_type": "markdown",
   "metadata": {},
   "source": [
    "#### **List Methods**"
   ]
  },
  {
   "cell_type": "code",
   "execution_count": 291,
   "metadata": {},
   "outputs": [
    {
     "name": "stdout",
     "output_type": "stream",
     "text": [
      "Programming Languages ['Python', 'Javascript', 'PHP', 'C++', 'C#', 'Ruby']\n",
      "Programming Languages ['Python', 'Java', 'Javascript', 'PHP', 'C++', 'C#', 'Ruby']\n"
     ]
    }
   ],
   "source": [
    "# Adding\n",
    "programming_languages = [\"Python\", \"Javascript\", \"PHP\", \"C++\", \"C#\"]\n",
    "\n",
    "#append (element) - add an element at the end of the list\n",
    "programming_languages.append (\"Ruby\")\n",
    "print (\"Programming Languages\", programming_languages)\n",
    "\n",
    "#insert (index, element) - add an element at a specific index\n",
    "programming_languages.insert(1, \"Java\")\n",
    "print (\"Programming Languages\", programming_languages)"
   ]
  },
  {
   "cell_type": "code",
   "execution_count": 292,
   "metadata": {},
   "outputs": [
    {
     "name": "stdout",
     "output_type": "stream",
     "text": [
      "Programming Languages ['Python', 'Java', 'Javascript', 'PHP', 'C++', 'C#']\n",
      "Programming Languages ['Python', 'Javascript', 'PHP', 'C++', 'C#']\n"
     ]
    }
   ],
   "source": [
    "#Delete\n",
    "\n",
    "# .pop(index) - delete the element at the end/specified index\n",
    "programming_languages.pop()\n",
    "print (\"Programming Languages\", programming_languages)\n",
    "\n",
    "programming_languages.pop(1)\n",
    "print (\"Programming Languages\", programming_languages)\n"
   ]
  },
  {
   "cell_type": "code",
   "execution_count": 294,
   "metadata": {},
   "outputs": [
    {
     "name": "stdout",
     "output_type": "stream",
     "text": [
      "['Python', 'Javascript', 'PHP', 'C++', 'C#']\n",
      "Programming Languages: ['Python', 'Javascript', 'C++', 'C#']\n"
     ]
    }
   ],
   "source": [
    "print(programming_languages)\n",
    "# .remove(element) - delete an element\n",
    "programming_languages.remove(\"PHP\")\n",
    "print(\"Programming Languages:\", programming_languages)"
   ]
  },
  {
   "cell_type": "markdown",
   "metadata": {},
   "source": [
    "#### **List Extending**"
   ]
  },
  {
   "cell_type": "code",
   "execution_count": 250,
   "metadata": {},
   "outputs": [
    {
     "name": "stdout",
     "output_type": "stream",
     "text": [
      "[1, 2, 3, 4, 5, 'A', 'B', 'C', 'D', 'E']\n"
     ]
    }
   ],
   "source": [
    "list_of_numbers =  [1, 2, 3, 4, 5]\n",
    "list_of_letters =  [\"A\", \"B\", \"C\", \"D\", \"E\"]\n",
    "\n",
    "list_of_numbers.extend(list_of_letters)\n",
    "print(list_of_numbers)"
   ]
  },
  {
   "cell_type": "markdown",
   "metadata": {},
   "source": [
    "#### **Sorting List**"
   ]
  },
  {
   "cell_type": "code",
   "execution_count": 251,
   "metadata": {},
   "outputs": [
    {
     "name": "stdout",
     "output_type": "stream",
     "text": [
      "[1, 2, 3, 4, 5, 6, 7, 8, 9]\n",
      "[9, 8, 7, 6, 5, 4, 3, 2, 1]\n",
      "['Arthur', 'Galahad', 'Lancelot', 'Percival']\n",
      "['Percival', 'Lancelot', 'Galahad', 'Arthur']\n"
     ]
    }
   ],
   "source": [
    "list_of_numbers_v2 = [9, 1, 8, 2, 7, 3, 6, 4, 5]\n",
    "list_of_numbers_v2.sort()\n",
    "print (list_of_numbers_v2)\n",
    "\n",
    "#Sorting in reverse order \n",
    "list_of_numbers_v2.sort(reverse=True)\n",
    "print (list_of_numbers_v2)\n",
    "\n",
    "list_of_names = [\"Lancelot\", \"Galahad\", \"Arthur\", \"Percival\"]\n",
    "list_of_names.sort()\n",
    "print (list_of_names)\n",
    "list_of_names.sort(reverse=True)\n",
    "print (list_of_names)"
   ]
  },
  {
   "cell_type": "markdown",
   "metadata": {},
   "source": [
    "## **Tuples**\n",
    "\n",
    "**Introduction to Tuples**\n",
    "\n",
    "Tuples are ordered collections of items, just like lists. However, their immutability makes them useful for fixed data sequences and can serve as keys in dictionaries due to their hashable nature.\n",
    "\n",
    "- Mutability: Tuples are immutable, meaning their elements cannot be changed after creation.\n",
    "- Syntax: Tuples are enclosed in parentheses (()), and elements are separated by commas.\n",
    "- Indexing and Ordering: Tuples are ordered collections, preserving the order of elements. Elements can be accessed using indices.\n",
    "- Usage: Tuples are suitable for immutable sequences, often used for fixed collections of data.\n",
    "\n",
    "#### **Creating a tuple**"
   ]
  },
  {
   "cell_type": "code",
   "execution_count": 252,
   "metadata": {},
   "outputs": [
    {
     "name": "stdout",
     "output_type": "stream",
     "text": [
      "Number Tuples: (1, 2, 3, 4, 5)\n",
      "Data Type: <class 'tuple'>\n"
     ]
    }
   ],
   "source": [
    "numbers_tuple = (1,2,3,4,5)\n",
    "print(\"Number Tuples:\", numbers_tuple)\n",
    "print(\"Data Type:\", type(numbers_tuple))"
   ]
  },
  {
   "cell_type": "markdown",
   "metadata": {},
   "source": [
    "#### **Accessing Elements**"
   ]
  },
  {
   "cell_type": "code",
   "execution_count": 253,
   "metadata": {},
   "outputs": [
    {
     "name": "stdout",
     "output_type": "stream",
     "text": [
      "First Element: 1\n",
      "Last Element: 5\n"
     ]
    }
   ],
   "source": [
    "print('First Element:', numbers_tuple[0])\n",
    "print('Last Element:', numbers_tuple[-1])"
   ]
  },
  {
   "cell_type": "markdown",
   "metadata": {},
   "source": [
    "#### **Tuple Immutability**"
   ]
  },
  {
   "cell_type": "code",
   "execution_count": 254,
   "metadata": {},
   "outputs": [],
   "source": [
    "#numbers_tuple[1] = 'two'\n",
    "#print (numbers_tuple)\n",
    "#this will return TypeError"
   ]
  },
  {
   "cell_type": "markdown",
   "metadata": {},
   "source": [
    "## **Dictionaries and Dictionary Methods**\n",
    "\n",
    "#### **Introduction to Dictionaries**\n",
    "\n",
    "Dictionaries in Python are unordered collections of items. While lists are indexed by a range of numbers, dictionaries are indexed by keys, which can be any immutable type; strings and numbers can always be keys.\n",
    "- Mutability: Dictionaries are mutable, meaning they can be modified by adding, updating, or removing key-value pairs.\n",
    "- Syntax: Dictionaries are enclosed in curly braces ({}), with key-value pairs separated by colons (:) and items separated by commas.\n",
    "- Indexing and Ordering: Dictionaries are unordered collections, and elements are accessed using keys rather than indices.\n",
    "- Usage: Dictionaries are suitable for key-value mappings, efficient lookup, and representing structured data\n",
    "\n",
    "#### **Creating a dictionary and accessing values**"
   ]
  },
  {
   "cell_type": "code",
   "execution_count": 255,
   "metadata": {},
   "outputs": [
    {
     "name": "stdout",
     "output_type": "stream",
     "text": [
      "Will Smith: {'first_name': 'Will', 'last_name': 'Smith', 'age': 30, 'address': '123 Ex Street', 'is_married': True, 'skills': ['Singing', 'Acting', 'Dancing']}\n",
      "Data Type: <class 'dict'>\n"
     ]
    }
   ],
   "source": [
    "#{key:value}\n",
    "dict_person = {\n",
    "    \"first_name\":\"Will\",\n",
    "    \"last_name\" : \"Smith\",\n",
    "    \"age\" : 30,\n",
    "    \"address\": \"123 Ex Street\",\n",
    "    \"is_married\": True,\n",
    "    \"skills\": [\"Singing\", \"Acting\", \"Dancing\"]\n",
    "}\n",
    "\n",
    "print (\"Will Smith:\", dict_person)\n",
    "print (\"Data Type:\", type(dict_person))"
   ]
  },
  {
   "cell_type": "code",
   "execution_count": 256,
   "metadata": {},
   "outputs": [
    {
     "name": "stdout",
     "output_type": "stream",
     "text": [
      "FirstName: Will\n",
      "Skills: ['Singing', 'Acting', 'Dancing']\n",
      "2nd Skill: Acting\n"
     ]
    }
   ],
   "source": [
    "print('FirstName:', dict_person['first_name'])\n",
    "print('Skills:', dict_person['skills'])\n",
    "print('2nd Skill:', dict_person['skills'][1])"
   ]
  },
  {
   "cell_type": "markdown",
   "metadata": {},
   "source": [
    "#### **Dictionary Methods**"
   ]
  },
  {
   "cell_type": "code",
   "execution_count": 257,
   "metadata": {},
   "outputs": [
    {
     "name": "stdout",
     "output_type": "stream",
     "text": [
      "Skills: ['Singing', 'Acting', 'Dancing']\n",
      "Gender: None\n",
      "{'first_name': 'Will', 'last_name': 'Smith', 'age': 30, 'address': '123 Ex Street', 'is_married': True, 'skills': ['Singing', 'Acting', 'Dancing'], 'Gender': 'Male'}\n"
     ]
    }
   ],
   "source": [
    "print(\"Skills:\", dict_person.get(\"skills\"))\n",
    "print(\"Gender:\", dict_person.get(\"gender\"))\n",
    "\n",
    "# ADD \n",
    "dict_person[\"Gender\"] = \"Male\"\n",
    "print(dict_person)"
   ]
  },
  {
   "cell_type": "code",
   "execution_count": 258,
   "metadata": {},
   "outputs": [
    {
     "name": "stdout",
     "output_type": "stream",
     "text": [
      "Keys: dict_keys(['first_name', 'last_name', 'age', 'address', 'is_married', 'skills', 'Gender'])\n",
      "Keys: dict_values(['Will', 'Smith', 30, '123 Ex Street', True, ['Singing', 'Acting', 'Dancing'], 'Male'])\n",
      "Key and Value Pair: dict_items([('first_name', 'Will'), ('last_name', 'Smith'), ('age', 30), ('address', '123 Ex Street'), ('is_married', True), ('skills', ['Singing', 'Acting', 'Dancing']), ('Gender', 'Male')])\n"
     ]
    }
   ],
   "source": [
    "print(\"Keys:\", dict_person.keys())\n",
    "print(\"Keys:\", dict_person.values())\n",
    "print(\"Key and Value Pair:\", dict_person.items())"
   ]
  },
  {
   "cell_type": "code",
   "execution_count": 259,
   "metadata": {},
   "outputs": [
    {
     "name": "stdout",
     "output_type": "stream",
     "text": [
      "Will Smith: {'first_name': 'Will', 'last_name': 'Smith', 'age': 30, 'address': '123 Ex Street', 'is_married': True, 'skills': ['Singing', 'Acting', 'Dancing'], 'Gender': 'Male'}\n"
     ]
    }
   ],
   "source": [
    "# Delete\n",
    "# del dict_person[\"gender\"] This will return a KeyError\n",
    "print(\"Will Smith:\", dict_person)"
   ]
  },
  {
   "cell_type": "code",
   "execution_count": 260,
   "metadata": {},
   "outputs": [
    {
     "name": "stdout",
     "output_type": "stream",
     "text": [
      "Will Smith: {'first_name': 'Will', 'last_name': 'Smith', 'age': 30, 'is_married': True, 'skills': ['Singing', 'Acting', 'Dancing'], 'Gender': 'Male'}\n"
     ]
    }
   ],
   "source": [
    "dict_person.pop(\"address\")\n",
    "print(\"Will Smith:\", dict_person)"
   ]
  },
  {
   "cell_type": "code",
   "execution_count": 261,
   "metadata": {},
   "outputs": [
    {
     "name": "stdout",
     "output_type": "stream",
     "text": [
      "Will Smith: {'first_name': 'Will', 'last_name': 'Smith', 'age': 31, 'is_married': True, 'skills': ['Singing', 'Acting', 'Dancing'], 'Gender': 'Male'}\n"
     ]
    }
   ],
   "source": [
    "dict_person[\"age\"] = 31\n",
    "print(\"Will Smith:\", dict_person)"
   ]
  },
  {
   "cell_type": "markdown",
   "metadata": {},
   "source": [
    "## **Control Flow and Statements**"
   ]
  },
  {
   "cell_type": "markdown",
   "metadata": {},
   "source": [
    "#### **Conditional Statements:** \n",
    "Allow us to execute different blocks of code based on a condition.\n",
    "\n",
    "- **if, elif, else statements**"
   ]
  },
  {
   "cell_type": "code",
   "execution_count": 322,
   "metadata": {},
   "outputs": [
    {
     "name": "stdout",
     "output_type": "stream",
     "text": [
      "You are Eligible to work.\n"
     ]
    }
   ],
   "source": [
    "age = 18\n",
    "has_license = False\n",
    "is_Student = False \n",
    "\n",
    "if age >= 18 and has_license: \n",
    "    print (\"You are Eligible to drive.\") \n",
    "elif age >= 18 and not is_Student:\n",
    "    print (\"You are Eligible to work.\") \n",
    "elif age < 18 or not has_license:\n",
    "    print (\"You are not eligible to drive or work\")\n",
    "else: print (\"You are a student\")"
   ]
  },
  {
   "cell_type": "markdown",
   "metadata": {},
   "source": [
    "#### **Looping Statements:** \n",
    "Repeatedly execute a block of code until a specific condition is met.\n",
    "\n",
    "- **for Loop**"
   ]
  },
  {
   "cell_type": "code",
   "execution_count": 328,
   "metadata": {},
   "outputs": [
    {
     "name": "stdout",
     "output_type": "stream",
     "text": [
      "1\n",
      "2\n",
      "3\n",
      "4\n",
      "5\n"
     ]
    }
   ],
   "source": [
    "#For loop in a list\n",
    "numbers = {1, 2, 3, 4, 5}\n",
    "\n",
    "for number in numbers: \n",
    "    print (number)"
   ]
  },
  {
   "cell_type": "code",
   "execution_count": 331,
   "metadata": {},
   "outputs": [
    {
     "name": "stdout",
     "output_type": "stream",
     "text": [
      "1\n",
      "2\n",
      "3\n"
     ]
    }
   ],
   "source": [
    "counter = 1\n",
    "for number in numbers:\n",
    "    if counter <= 3:\n",
    "        print (number)\n",
    "        counter +=1\n",
    "    else:\n",
    "        break"
   ]
  },
  {
   "cell_type": "code",
   "execution_count": 337,
   "metadata": {},
   "outputs": [
    {
     "name": "stdout",
     "output_type": "stream",
     "text": [
      "1\n",
      "3\n",
      "5\n"
     ]
    }
   ],
   "source": [
    "#range(start, end(excluded),step)\n",
    "for number in range(1, 6, 2):\n",
    "    print (number)"
   ]
  },
  {
   "cell_type": "code",
   "execution_count": 338,
   "metadata": {},
   "outputs": [
    {
     "name": "stdout",
     "output_type": "stream",
     "text": [
      "1\n",
      "2\n",
      "3\n",
      "4\n",
      "5\n",
      "6\n",
      "7\n",
      "8\n",
      "9\n",
      "10\n",
      "11\n",
      "12\n",
      "14\n",
      "15\n"
     ]
    }
   ],
   "source": [
    "#range(start, end(excluded),step), skipping a particular number\n",
    "for number in range(1, 16):\n",
    "    if number == 13:\n",
    "        continue\n",
    "    print (number)"
   ]
  },
  {
   "cell_type": "markdown",
   "metadata": {},
   "source": [
    "## **Functions**\n",
    "\n",
    "- Groups code together into a block.\n",
    "- Allows us to call and reuse code efficently.\n",
    "- It could take in information (parameters) and return information (return statement) to the caller."
   ]
  },
  {
   "cell_type": "code",
   "execution_count": 333,
   "metadata": {},
   "outputs": [
    {
     "name": "stdout",
     "output_type": "stream",
     "text": [
      "Hello, and welcome to the world of Python\n",
      "Hello, and welcome to the world of Python\n",
      "Hello, and welcome to the world of Python\n"
     ]
    }
   ],
   "source": [
    "def greet ():\n",
    "    print (\"Hello, and welcome to the world of Python\")\n",
    "\n",
    "# Calling a function\n",
    "greet ()\n",
    "greet ()\n",
    "greet ()"
   ]
  }
 ],
 "metadata": {
  "kernelspec": {
   "display_name": "Python 3",
   "language": "python",
   "name": "python3"
  },
  "language_info": {
   "codemirror_mode": {
    "name": "ipython",
    "version": 3
   },
   "file_extension": ".py",
   "mimetype": "text/x-python",
   "name": "python",
   "nbconvert_exporter": "python",
   "pygments_lexer": "ipython3",
   "version": "3.13.0"
  }
 },
 "nbformat": 4,
 "nbformat_minor": 2
}
